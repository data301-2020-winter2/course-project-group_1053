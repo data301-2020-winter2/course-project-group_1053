import pandas as pd
df = pd.read_csv("https://raw.githubusercontent.com/data301-2020-winter2/course-project-group_1053/main/data/raw/Summer-Olympic-medals-1976-to-2008%202.csv")

