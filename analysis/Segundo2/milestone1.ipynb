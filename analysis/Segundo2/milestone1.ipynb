{
 "cells": [
  {
   "cell_type": "code",
   "execution_count": 5,
   "id": "known-village",
   "metadata": {},
   "outputs": [
    {
     "name": "stdout",
     "output_type": "stream",
     "text": [
      "       City    Year     Sport Discipline           Event  \\\n",
      "0  Montreal  1976.0  Aquatics     Diving  3m springboard   \n",
      "1  Montreal  1976.0  Aquatics     Diving  3m springboard   \n",
      "2  Montreal  1976.0  Aquatics     Diving  3m springboard   \n",
      "3  Montreal  1976.0  Aquatics     Diving  3m springboard   \n",
      "4  Montreal  1976.0  Aquatics     Diving    10m platform   \n",
      "\n",
      "                    Athlete Gender Country_Code        Country Event_gender  \\\n",
      "0           KÖHLER, Christa  Women          GDR   East Germany            W   \n",
      "1       KOSENKOV, Aleksandr    Men          URS   Soviet Union            M   \n",
      "2      BOGGS, Philip George    Men          USA  United States            M   \n",
      "3  CAGNOTTO, Giorgio Franco    Men          ITA          Italy            M   \n",
      "4    WILSON, Deborah Keplar  Women          USA  United States            W   \n",
      "\n",
      "    Medal  \n",
      "0  Silver  \n",
      "1  Bronze  \n",
      "2    Gold  \n",
      "3  Silver  \n",
      "4  Bronze  \n"
     ]
    }
   ],
   "source": [
    "import pandas as pd\n",
    "\n",
    "df = pd.read_csv(\"../../data/raw/Summer-Olympic-medals-1976-to-2008 2.csv\")\n",
    "\n",
    "print(df.head())"
   ]
  },
  {
   "cell_type": "code",
   "execution_count": null,
   "id": "billion-advice",
   "metadata": {},
   "outputs": [],
   "source": []
  }
 ],
 "metadata": {
  "kernelspec": {
   "display_name": "Python 3",
   "language": "python",
   "name": "python3"
  },
  "language_info": {
   "codemirror_mode": {
    "name": "ipython",
    "version": 3
   },
   "file_extension": ".py",
   "mimetype": "text/x-python",
   "name": "python",
   "nbconvert_exporter": "python",
   "pygments_lexer": "ipython3",
   "version": "3.8.5"
  }
 },
 "nbformat": 4,
 "nbformat_minor": 5
}
