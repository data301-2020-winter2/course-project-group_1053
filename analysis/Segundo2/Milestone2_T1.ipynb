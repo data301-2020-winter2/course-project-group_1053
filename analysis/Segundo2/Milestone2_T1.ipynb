{
 "cells": [
  {
   "cell_type": "markdown",
   "id": "union-allocation",
   "metadata": {},
   "source": [
    "# Intro"
   ]
  },
  {
   "cell_type": "markdown",
   "id": "regulated-hopkins",
   "metadata": {},
   "source": [
    "I will be analyzing the following columns in my EDA. \n",
    "\n",
    "- 'Country'\n",
    "- 'Medal'\n",
    "- 'Year'\n",
    "\n",
    "These columns will help me better explore and analyze within my EDA\n",
    "\n",
    "---\n",
    "\n",
    "The following picture is the medal designs for the 2020 Olympics\n",
    "\n",
    "<img src=\"analysis/Segundo2/Tokyo-2020-medals.jpeg\" width =\"350\" height=200 align=\"right\"/>"
   ]
  }
 ],
 "metadata": {
  "kernelspec": {
   "display_name": "Python 3",
   "language": "python",
   "name": "python3"
  },
  "language_info": {
   "codemirror_mode": {
    "name": "ipython",
    "version": 3
   },
   "file_extension": ".py",
   "mimetype": "text/x-python",
   "name": "python",
   "nbconvert_exporter": "python",
   "pygments_lexer": "ipython3",
   "version": "3.8.5"
  }
 },
 "nbformat": 4,
 "nbformat_minor": 5
}
